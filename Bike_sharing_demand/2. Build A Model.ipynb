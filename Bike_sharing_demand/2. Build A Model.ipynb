{
 "cells": [
  {
   "cell_type": "code",
   "execution_count": 1,
   "metadata": {},
   "outputs": [],
   "source": [
    "import pandas as pd\n",
    "import numpy as np\n",
    "from scipy import stats\n",
    "# visualization\n",
    "import matplotlib as mpl\n",
    "import matplotlib.pyplot as plt\n",
    "import seaborn as sns\n",
    "plt.style.use('ggplot')\n",
    "%matplotlib inline\n",
    "\n",
    "# ignore warnings\n",
    "import warnings\n",
    "warnings.filterwarnings('ignore')\n",
    "\n",
    "# 그래프에서 마이너스 폰트 깨짐 대처\n",
    "mpl.rcParams['axes.unicode_minus'] = False\n",
    "\n",
    "# treat time\n",
    "from datetime import datetime\n",
    "import calendar\n",
    "\n",
    "train = pd.read_csv('train.csv')\n",
    "train['date'] = train['datetime'].apply(lambda x: x.split()[0])\n",
    "train['hour'] = train['datetime'].apply(lambda x: x.split()[1].split(':')[0])\n",
    "train['weekDay'] = train['date'].apply(lambda dateString: calendar.day_name[datetime.strptime(dateString, \"%Y-%m-%d\").weekday()])\n",
    "train['month'] = train['date'].apply(lambda x: calendar.month_name[datetime.strptime(x,'%Y-%m-%d').month])\n",
    "train['season'] = train['season'].map({1:'Spring', 2:'Summer', 3:'Fall', 4:'Winter'})\n",
    "train['weather'] = train['weather'].map({\n",
    "    1:'Clear + Few clouds + Partly cloudy + Partly cloudy',\n",
    "    2:'Mist + Cloudy, Mist + Broken clouds, Mist + Few clouds, Mist',\n",
    "    3:' Light Snow, Light Rain + Thunderstorm + Scattered clouds, Light Rain + Scattered clouds',\n",
    "    4:'Heavy Rain + Ice Pallets + Thunderstorm + Mist, Snow + Fog'\n",
    "})\n",
    "categoryVariableList = ['hour','weekDay','month','season','weather','holiday','workingday']\n",
    "\n",
    "for var in categoryVariableList:\n",
    "    train[var] = train[var].astype('category')\n",
    "train = train.drop(['datetime'], axis=1)\n",
    "\n",
    "trainWithoutOutliers = train[np.abs(train['count'] - train['count'].mean()) <= (3*train['count'].std())]"
   ]
  },
  {
   "cell_type": "markdown",
   "metadata": {},
   "source": [
    "## 1. Filling 0's In windspeed Using Random Forest"
   ]
  },
  {
   "cell_type": "markdown",
   "metadata": {},
   "source": [
    "### Read In Train Set and Test Set"
   ]
  },
  {
   "cell_type": "code",
   "execution_count": 2,
   "metadata": {},
   "outputs": [
    {
     "name": "stdout",
     "output_type": "stream",
     "text": [
      "(10886, 12)\n",
      "(6493, 9)\n"
     ]
    }
   ],
   "source": [
    "dataTrain = pd.read_csv('train.csv')\n",
    "dataTest = pd.read_csv('test.csv')\n",
    "print(dataTrain.shape)\n",
    "print(dataTest.shape)"
   ]
  },
  {
   "cell_type": "markdown",
   "metadata": {},
   "source": [
    "### Combine Train and Test"
   ]
  },
  {
   "cell_type": "code",
   "execution_count": 3,
   "metadata": {},
   "outputs": [
    {
     "data": {
      "text/html": [
       "<div>\n",
       "<style scoped>\n",
       "    .dataframe tbody tr th:only-of-type {\n",
       "        vertical-align: middle;\n",
       "    }\n",
       "\n",
       "    .dataframe tbody tr th {\n",
       "        vertical-align: top;\n",
       "    }\n",
       "\n",
       "    .dataframe thead th {\n",
       "        text-align: right;\n",
       "    }\n",
       "</style>\n",
       "<table border=\"1\" class=\"dataframe\">\n",
       "  <thead>\n",
       "    <tr style=\"text-align: right;\">\n",
       "      <th></th>\n",
       "      <th>atemp</th>\n",
       "      <th>casual</th>\n",
       "      <th>count</th>\n",
       "      <th>datetime</th>\n",
       "      <th>holiday</th>\n",
       "      <th>humidity</th>\n",
       "      <th>registered</th>\n",
       "      <th>season</th>\n",
       "      <th>temp</th>\n",
       "      <th>weather</th>\n",
       "      <th>windspeed</th>\n",
       "      <th>workingday</th>\n",
       "    </tr>\n",
       "  </thead>\n",
       "  <tbody>\n",
       "    <tr>\n",
       "      <th>0</th>\n",
       "      <td>14.395</td>\n",
       "      <td>3.0</td>\n",
       "      <td>16.0</td>\n",
       "      <td>2011-01-01 00:00:00</td>\n",
       "      <td>0</td>\n",
       "      <td>81</td>\n",
       "      <td>13.0</td>\n",
       "      <td>1</td>\n",
       "      <td>9.84</td>\n",
       "      <td>1</td>\n",
       "      <td>0.0</td>\n",
       "      <td>0</td>\n",
       "    </tr>\n",
       "    <tr>\n",
       "      <th>1</th>\n",
       "      <td>13.635</td>\n",
       "      <td>8.0</td>\n",
       "      <td>40.0</td>\n",
       "      <td>2011-01-01 01:00:00</td>\n",
       "      <td>0</td>\n",
       "      <td>80</td>\n",
       "      <td>32.0</td>\n",
       "      <td>1</td>\n",
       "      <td>9.02</td>\n",
       "      <td>1</td>\n",
       "      <td>0.0</td>\n",
       "      <td>0</td>\n",
       "    </tr>\n",
       "    <tr>\n",
       "      <th>2</th>\n",
       "      <td>13.635</td>\n",
       "      <td>5.0</td>\n",
       "      <td>32.0</td>\n",
       "      <td>2011-01-01 02:00:00</td>\n",
       "      <td>0</td>\n",
       "      <td>80</td>\n",
       "      <td>27.0</td>\n",
       "      <td>1</td>\n",
       "      <td>9.02</td>\n",
       "      <td>1</td>\n",
       "      <td>0.0</td>\n",
       "      <td>0</td>\n",
       "    </tr>\n",
       "    <tr>\n",
       "      <th>3</th>\n",
       "      <td>14.395</td>\n",
       "      <td>3.0</td>\n",
       "      <td>13.0</td>\n",
       "      <td>2011-01-01 03:00:00</td>\n",
       "      <td>0</td>\n",
       "      <td>75</td>\n",
       "      <td>10.0</td>\n",
       "      <td>1</td>\n",
       "      <td>9.84</td>\n",
       "      <td>1</td>\n",
       "      <td>0.0</td>\n",
       "      <td>0</td>\n",
       "    </tr>\n",
       "    <tr>\n",
       "      <th>4</th>\n",
       "      <td>14.395</td>\n",
       "      <td>0.0</td>\n",
       "      <td>1.0</td>\n",
       "      <td>2011-01-01 04:00:00</td>\n",
       "      <td>0</td>\n",
       "      <td>75</td>\n",
       "      <td>1.0</td>\n",
       "      <td>1</td>\n",
       "      <td>9.84</td>\n",
       "      <td>1</td>\n",
       "      <td>0.0</td>\n",
       "      <td>0</td>\n",
       "    </tr>\n",
       "  </tbody>\n",
       "</table>\n",
       "</div>"
      ],
      "text/plain": [
       "    atemp  casual  count             datetime  holiday  humidity  registered  \\\n",
       "0  14.395     3.0   16.0  2011-01-01 00:00:00        0        81        13.0   \n",
       "1  13.635     8.0   40.0  2011-01-01 01:00:00        0        80        32.0   \n",
       "2  13.635     5.0   32.0  2011-01-01 02:00:00        0        80        27.0   \n",
       "3  14.395     3.0   13.0  2011-01-01 03:00:00        0        75        10.0   \n",
       "4  14.395     0.0    1.0  2011-01-01 04:00:00        0        75         1.0   \n",
       "\n",
       "   season  temp  weather  windspeed  workingday  \n",
       "0       1  9.84        1        0.0           0  \n",
       "1       1  9.02        1        0.0           0  \n",
       "2       1  9.02        1        0.0           0  \n",
       "3       1  9.84        1        0.0           0  \n",
       "4       1  9.84        1        0.0           0  "
      ]
     },
     "execution_count": 3,
     "metadata": {},
     "output_type": "execute_result"
    }
   ],
   "source": [
    "data = dataTrain.append(dataTest)\n",
    "data.reset_index(inplace=True)\n",
    "data.drop('index', axis=1, inplace=True)\n",
    "data.head()"
   ]
  },
  {
   "cell_type": "markdown",
   "metadata": {},
   "source": [
    "### Feature Engineering"
   ]
  },
  {
   "cell_type": "code",
   "execution_count": 4,
   "metadata": {},
   "outputs": [],
   "source": [
    "data['date'] = data['datetime'].apply(lambda x: x.split()[0])\n",
    "data['hour'] = data['datetime'].apply(lambda x: x.split()[1].split(':')[0]).astype('int')\n",
    "data['year'] = data['datetime'].apply(lambda x: x.split()[0].split('-')[0])\n",
    "data['weekday'] = data['date'].apply(lambda x: datetime.strptime(x,'%Y-%m-%d').weekday())\n",
    "data['month'] = data['date'].apply(lambda x: datetime.strptime(x,'%Y-%m-%d').month)"
   ]
  },
  {
   "cell_type": "markdown",
   "metadata": {},
   "source": [
    "### Random Forest Model To Predict 0's In Windspeed"
   ]
  },
  {
   "cell_type": "code",
   "execution_count": 5,
   "metadata": {},
   "outputs": [],
   "source": [
    "from sklearn.ensemble import RandomForestRegressor\n",
    "\n",
    "dataWind0 = data[data['windspeed'] == 0]\n",
    "dataWindNot0 = data[data['windspeed'] != 0]\n",
    "\n",
    "rf_wind = RandomForestRegressor()\n",
    "\n",
    "# 풍속에 영향을 주는 column들만 모아둔 리스트\n",
    "windColumns = ['season', 'weather', 'humidity', 'month', 'temp', 'year', 'atemp']\n",
    "\n",
    "# windwpeed가 0이 아닌 데이터셋을 이용해 랜덤 포레스트 모델 학습\n",
    "rf_wind.fit(dataWindNot0[windColumns], dataWindNot0['windspeed'])\n",
    "\n",
    "# windspeed가 0인 데이터 포인트의 windspeed 예측\n",
    "wind0Values = rf_wind.predict(X = dataWind0[windColumns])\n",
    "\n",
    "dataWind0['windspeed'] = wind0Values\n",
    "data = dataWindNot0.append(dataWind0)\n",
    "data.reset_index(inplace=True)\n",
    "data.drop('index', axis=1, inplace=True)"
   ]
  },
  {
   "cell_type": "markdown",
   "metadata": {},
   "source": [
    "### Coercing To Categorical Type"
   ]
  },
  {
   "cell_type": "code",
   "execution_count": 6,
   "metadata": {},
   "outputs": [
    {
     "data": {
      "text/plain": [
       "Index(['atemp', 'casual', 'count', 'datetime', 'holiday', 'humidity',\n",
       "       'registered', 'season', 'temp', 'weather', 'windspeed', 'workingday',\n",
       "       'date', 'hour', 'year', 'weekday', 'month'],\n",
       "      dtype='object')"
      ]
     },
     "execution_count": 6,
     "metadata": {},
     "output_type": "execute_result"
    }
   ],
   "source": [
    "data.columns"
   ]
  },
  {
   "cell_type": "code",
   "execution_count": 7,
   "metadata": {},
   "outputs": [],
   "source": [
    "categoricalFeatureNames = ['season', 'holiday', 'weather', 'workingday','weekday', 'month', 'year','hour']\n",
    "numericalFeatureNames = ['atemp','humidity','temp','windspeed']\n",
    "dropFeatures = ['casual','datetime','registered','count','date']"
   ]
  },
  {
   "cell_type": "code",
   "execution_count": 8,
   "metadata": {},
   "outputs": [],
   "source": [
    "for var in categoricalFeatureNames:\n",
    "    data[var] = data[var].astype('category')"
   ]
  },
  {
   "cell_type": "markdown",
   "metadata": {},
   "source": [
    "### Splitting Train and Test Set  \n",
    "  \n",
    "전처리를 마친 data를 다시 Train Set과 Test Set으로 나눠준다."
   ]
  },
  {
   "cell_type": "code",
   "execution_count": 9,
   "metadata": {},
   "outputs": [],
   "source": [
    "dataTrain = data[pd.notnull(data['count'])].sort_values(by='datetime')\n",
    "dataTest = data[pd.isnull(data['count'])].sort_values(by='datetime')\n",
    "datetimecol = dataTest['datetime']\n",
    "yLabels = dataTrain['count']\n",
    "yLabelsRegistered = dataTrain['registered']\n",
    "yLabelsCasual = dataTrain['casual']"
   ]
  },
  {
   "cell_type": "markdown",
   "metadata": {},
   "source": [
    "### Dropping Unnecessary Variables"
   ]
  },
  {
   "cell_type": "code",
   "execution_count": 10,
   "metadata": {},
   "outputs": [],
   "source": [
    "dataTrain = dataTrain.drop(dropFeatures, axis=1)\n",
    "dataTest = dataTest.drop(dropFeatures, axis=1)"
   ]
  },
  {
   "cell_type": "markdown",
   "metadata": {},
   "source": [
    "### RMSLE Scorer  \n",
    "이번 대회의 점수 산정 방식의 함수를 만든다."
   ]
  },
  {
   "cell_type": "code",
   "execution_count": 11,
   "metadata": {},
   "outputs": [],
   "source": [
    "def rmsle(y_true, y_pred, convertExp=True):\n",
    "    if convertExp:\n",
    "        y_true = np.exp(y_true)\n",
    "        y_pred = np.exp(y_pred)\n",
    "        \n",
    "    # 예측값과 실제값에 1을 더하고 로그를 씌워준다.\n",
    "    log1 = np.nan_to_num(np.array([np.log(x + 1) for x in y_true]))\n",
    "    log2 = np.nan_to_num(np.array([np.log(x + 1) for x in y_pred]))\n",
    "    \n",
    "    # 위에서 계산한 예측값에서 실제값을 빼고 제곱을 해준다.\n",
    "    cal = (log1 - log2) ** 2\n",
    "    \n",
    "    # 평균의 제곱을 반환한다.\n",
    "    return np.sqrt(np.mean(cal))"
   ]
  },
  {
   "cell_type": "markdown",
   "metadata": {},
   "source": [
    "## Linear Regression Model  \n",
    "  \n",
    "선형 회귀 모델은 가정 중 종속변수의 정규성이 있기 때문에 y에 로그를 취해준 값에 대하여 모델을 적합하고 예측한 뒤, 예측값에 다시 지수 변환을 해준다."
   ]
  },
  {
   "cell_type": "code",
   "execution_count": 12,
   "metadata": {},
   "outputs": [
    {
     "name": "stdout",
     "output_type": "stream",
     "text": [
      "RMSLE Value For Linear Regression on Train set: 0.977966105984815\n"
     ]
    }
   ],
   "source": [
    "from sklearn.linear_model import LinearRegression, Ridge, Lasso\n",
    "from sklearn.model_selection import GridSearchCV\n",
    "from sklearn import metrics\n",
    "\n",
    "# Initialize regression model\n",
    "lr = LinearRegression()\n",
    "\n",
    "# Train the model\n",
    "yLabelsLog = np.log1p(yLabels) \n",
    "lr.fit(X=dataTrain, y=yLabelsLog)\n",
    "\n",
    "# Make predictions\n",
    "preds = lr.predict(X=dataTrain)\n",
    "print('RMSLE Value For Linear Regression on Train set: {}'.format(rmsle(np.exp(yLabelsLog), np.exp(preds), False)))"
   ]
  },
  {
   "cell_type": "markdown",
   "metadata": {},
   "source": [
    "## Regularization Model - Ridge"
   ]
  },
  {
   "cell_type": "code",
   "execution_count": 13,
   "metadata": {},
   "outputs": [
    {
     "name": "stdout",
     "output_type": "stream",
     "text": [
      "{'alpha': 0.1, 'max_iter': 3000}\n",
      "RMSLE Value For Ridge Regression:  0.9779660909098081\n"
     ]
    }
   ],
   "source": [
    "ridge_m_ = Ridge()\n",
    "ridge_params_ = { 'max_iter':[3000],'alpha':[0.1, 1, 2, 3, 4, 10, 30,100,200,300,400,800,900,1000]}\n",
    "rmsle_scorer = metrics.make_scorer(rmsle, greater_is_better=False)\n",
    "grid_ridge_m = GridSearchCV( ridge_m_,\n",
    "                          ridge_params_,\n",
    "                          scoring = rmsle_scorer,\n",
    "                          cv=5)\n",
    "yLabelsLog = np.log1p(yLabels)\n",
    "grid_ridge_m.fit( dataTrain, yLabelsLog )\n",
    "preds = grid_ridge_m.predict(X= dataTrain)\n",
    "print (grid_ridge_m.best_params_)\n",
    "print (\"RMSLE Value For Ridge Regression: \",rmsle(np.exp(yLabelsLog),np.exp(preds),False))\n",
    "\n"
   ]
  },
  {
   "cell_type": "code",
   "execution_count": 14,
   "metadata": {},
   "outputs": [
    {
     "data": {
      "text/plain": [
       "<matplotlib.axes._subplots.AxesSubplot at 0x20be113a0f0>"
      ]
     },
     "execution_count": 14,
     "metadata": {},
     "output_type": "execute_result"
    },
    {
     "data": {
      "image/png": "[encoded data removed]",
      "text/plain": [
       "<Figure size 864x360 with 1 Axes>"
      ]
     },
     "metadata": {
      "needs_background": "light"
     },
     "output_type": "display_data"
    }
   ],
   "source": [
    "fig,ax= plt.subplots()\n",
    "fig.set_size_inches(12,5)\n",
    "df = pd.DataFrame(grid_ridge_m.cv_results_)\n",
    "df[\"alpha\"] = df[\"param_alpha\"]\n",
    "df[\"rmsle\"] = df[\"mean_test_score\"].apply(lambda x:-x)\n",
    "\n",
    "plt.xticks(rotation=30, ha='right')\n",
    "sns.pointplot(data=df,x=\"alpha\",y=\"rmsle\",ax=ax)"
   ]
  },
  {
   "cell_type": "code",
   "execution_count": null,
   "metadata": {},
   "outputs": [],
   "source": []
  }
 ],
 "metadata": {
  "kernelspec": {
   "display_name": "Python 3",
   "language": "python",
   "name": "python3"
  },
  "language_info": {
   "codemirror_mode": {
    "name": "ipython",
    "version": 3
   },
   "file_extension": ".py",
   "mimetype": "text/x-python",
   "name": "python",
   "nbconvert_exporter": "python",
   "pygments_lexer": "ipython3",
   "version": "3.7.3"
  }
 },
 "nbformat": 4,
 "nbformat_minor": 2
}
