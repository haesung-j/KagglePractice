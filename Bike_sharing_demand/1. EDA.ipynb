{
 "cells": [
  {
   "cell_type": "markdown",
   "metadata": {},
   "source": [
    "## 개요"
   ]
  },
  {
   "cell_type": "markdown",
   "metadata": {},
   "source": [
    "자전거 공유 시스템(Bike sharing systems)은 도시 전체의 키오스크 위치 네트워크를 통해 회원 가입, 대여, 반납하는 절차가 자동화된 자전거 대여 방법을 말한다. 이런 시스템을 사용하여, 사람들은 한 장소에서 자전거를 빌리고 필요에 따라 다른 장소로 반납할 수 있다.  \n",
    "  \n",
    "이러한 시스템에서 생성된 데이터는 이동 기간(duration of travel), 출발 위치(departure location), 도착 위치(arrival location) 및 경과 시간(time elapsed)을 명시적으로 기록하기 때문에 연구자들에게 매력적이다. 따라서 자전거 공유 시스템은 도시의 이동성을 연구하는 데 사용될 수 있는 센서 네트워크 역할을 한다.  \n",
    "  \n",
    "이번 대회에서 참가자들은 워싱턴 D.C.의 Capital Bikeshare program에서 **자전거 대여 수요를 예측(forecast bike rental demand)** 하기 위해 과거 사용 패턴을 날씨 데이터와 결합해야 한다."
   ]
  },
  {
   "cell_type": "markdown",
   "metadata": {},
   "source": [
    "## 데이터"
   ]
  },
  {
   "cell_type": "markdown",
   "metadata": {},
   "source": [
    "2년 간의 시간당 rental data로 훈련 셋은 매월의 첫 19일까지, 테스트 셋은 20일부터 말일까지로 구성되어 있다.  \n",
    "  \n",
    "**목적: 테스트 셋의 매 시간 총 대여 자전거 수 예측**  \n",
    "  \n",
    "  \n",
    "**datetime** 　　- hourly date + timestamp  \n",
    "**season** 　　　- 1 = spring, 2 = summer, 3 = fall, 4 = winter  \n",
    "**holiday** 　　　- whether the day is considered a holiday(휴일로 간주되는 날)  \n",
    "**workingday** 　- whether the day is neither a weekend nor holiday(주말도 아니고 휴일도 아닌 날)  \n",
    "**weather** 　　　- 1: Clear, Few clouds, Partly cloudy, Partly cloudy  \n",
    "　　　　　　　　2: Mist + Cloudy, Mist + Broken clouds, Mist + Few clouds, Mist  \n",
    "　　　　　　　　3: Light Snow, Light Rain + Thunderstorm + Scattered clouds, Light Rain + Scattered clouds  \n",
    "　　　　　　　　4: Heavy Rain + Ice Pallets + Thunderstorm + Mist, Snow + Fog   \n",
    "**temp** 　　　　　- temperature in Celsius(섭씨 온도)  \n",
    "**atemp** 　　　　- \"feels like\" temperature in Celsius(체감 온도)  \n",
    "**humidity** 　　　- relative humidity(상대 습도)  \n",
    "**windspeed** 　　- wind speed(풍속)  \n",
    "**casual** 　　　　- number of non-registered user rentals initiated(등록되지 않은 사용자의 최초 렌탈 수)  \n",
    "**registered** 　　- number of registered user rentals initiated(등록된 사용자의 최초 렌탈 수)   \n",
    "**count** 　　　　　- number of total rentals(총 대여 수) (count = casual + registered)  "
   ]
  },
  {
   "cell_type": "markdown",
   "metadata": {},
   "source": [
    "## 1. Load the module and data"
   ]
  },
  {
   "cell_type": "code",
   "execution_count": 1,
   "metadata": {},
   "outputs": [],
   "source": [
    "import pandas as pd\n",
    "import numpy as np\n",
    "# visualization\n",
    "import matplotlib as mpl\n",
    "import matplotlib.pyplot as plt\n",
    "import seaborn as sns\n",
    "plt.style.use('ggplot')\n",
    "%matplotlib inline\n",
    "\n",
    "# ignore warnings\n",
    "import warnings\n",
    "warnings.filterwarnings('ignore')\n",
    "\n",
    "# 그래프에서 마이너스 폰트 깨짐 대처\n",
    "mpl.rcParams['axes.unicode_minus'] = False\n",
    "\n",
    "# treat time\n",
    "from datetime import datetime\n",
    "import calendar"
   ]
  },
  {
   "cell_type": "code",
   "execution_count": 2,
   "metadata": {},
   "outputs": [
    {
     "name": "stdout",
     "output_type": "stream",
     "text": [
      "(10886, 12)\n"
     ]
    }
   ],
   "source": [
    "train = pd.read_csv('train.csv')\n",
    "print(train.shape)"
   ]
  },
  {
   "cell_type": "code",
   "execution_count": 3,
   "metadata": {},
   "outputs": [
    {
     "name": "stdout",
     "output_type": "stream",
     "text": [
      "<class 'pandas.core.frame.DataFrame'>\n",
      "RangeIndex: 10886 entries, 0 to 10885\n",
      "Data columns (total 12 columns):\n",
      "datetime      10886 non-null object\n",
      "season        10886 non-null int64\n",
      "holiday       10886 non-null int64\n",
      "workingday    10886 non-null int64\n",
      "weather       10886 non-null int64\n",
      "temp          10886 non-null float64\n",
      "atemp         10886 non-null float64\n",
      "humidity      10886 non-null int64\n",
      "windspeed     10886 non-null float64\n",
      "casual        10886 non-null int64\n",
      "registered    10886 non-null int64\n",
      "count         10886 non-null int64\n",
      "dtypes: float64(3), int64(8), object(1)\n",
      "memory usage: 1020.6+ KB\n"
     ]
    }
   ],
   "source": [
    "# 총 10886행, 12열로 이루어진 데이터 프레임\n",
    "# 범주형 변수인 season, holiday, workingday, weather가 모두 int형으로 되어있다.\n",
    "train.info()        "
   ]
  },
  {
   "cell_type": "code",
   "execution_count": 4,
   "metadata": {},
   "outputs": [
    {
     "data": {
      "text/html": [
       "<div>\n",
       "<style scoped>\n",
       "    .dataframe tbody tr th:only-of-type {\n",
       "        vertical-align: middle;\n",
       "    }\n",
       "\n",
       "    .dataframe tbody tr th {\n",
       "        vertical-align: top;\n",
       "    }\n",
       "\n",
       "    .dataframe thead th {\n",
       "        text-align: right;\n",
       "    }\n",
       "</style>\n",
       "<table border=\"1\" class=\"dataframe\">\n",
       "  <thead>\n",
       "    <tr style=\"text-align: right;\">\n",
       "      <th></th>\n",
       "      <th>datetime</th>\n",
       "      <th>season</th>\n",
       "      <th>holiday</th>\n",
       "      <th>workingday</th>\n",
       "      <th>weather</th>\n",
       "      <th>temp</th>\n",
       "      <th>atemp</th>\n",
       "      <th>humidity</th>\n",
       "      <th>windspeed</th>\n",
       "      <th>casual</th>\n",
       "      <th>registered</th>\n",
       "      <th>count</th>\n",
       "    </tr>\n",
       "  </thead>\n",
       "  <tbody>\n",
       "    <tr>\n",
       "      <th>0</th>\n",
       "      <td>2011-01-01 00:00:00</td>\n",
       "      <td>1</td>\n",
       "      <td>0</td>\n",
       "      <td>0</td>\n",
       "      <td>1</td>\n",
       "      <td>9.84</td>\n",
       "      <td>14.395</td>\n",
       "      <td>81</td>\n",
       "      <td>0.0</td>\n",
       "      <td>3</td>\n",
       "      <td>13</td>\n",
       "      <td>16</td>\n",
       "    </tr>\n",
       "    <tr>\n",
       "      <th>1</th>\n",
       "      <td>2011-01-01 01:00:00</td>\n",
       "      <td>1</td>\n",
       "      <td>0</td>\n",
       "      <td>0</td>\n",
       "      <td>1</td>\n",
       "      <td>9.02</td>\n",
       "      <td>13.635</td>\n",
       "      <td>80</td>\n",
       "      <td>0.0</td>\n",
       "      <td>8</td>\n",
       "      <td>32</td>\n",
       "      <td>40</td>\n",
       "    </tr>\n",
       "    <tr>\n",
       "      <th>2</th>\n",
       "      <td>2011-01-01 02:00:00</td>\n",
       "      <td>1</td>\n",
       "      <td>0</td>\n",
       "      <td>0</td>\n",
       "      <td>1</td>\n",
       "      <td>9.02</td>\n",
       "      <td>13.635</td>\n",
       "      <td>80</td>\n",
       "      <td>0.0</td>\n",
       "      <td>5</td>\n",
       "      <td>27</td>\n",
       "      <td>32</td>\n",
       "    </tr>\n",
       "    <tr>\n",
       "      <th>3</th>\n",
       "      <td>2011-01-01 03:00:00</td>\n",
       "      <td>1</td>\n",
       "      <td>0</td>\n",
       "      <td>0</td>\n",
       "      <td>1</td>\n",
       "      <td>9.84</td>\n",
       "      <td>14.395</td>\n",
       "      <td>75</td>\n",
       "      <td>0.0</td>\n",
       "      <td>3</td>\n",
       "      <td>10</td>\n",
       "      <td>13</td>\n",
       "    </tr>\n",
       "    <tr>\n",
       "      <th>4</th>\n",
       "      <td>2011-01-01 04:00:00</td>\n",
       "      <td>1</td>\n",
       "      <td>0</td>\n",
       "      <td>0</td>\n",
       "      <td>1</td>\n",
       "      <td>9.84</td>\n",
       "      <td>14.395</td>\n",
       "      <td>75</td>\n",
       "      <td>0.0</td>\n",
       "      <td>0</td>\n",
       "      <td>1</td>\n",
       "      <td>1</td>\n",
       "    </tr>\n",
       "  </tbody>\n",
       "</table>\n",
       "</div>"
      ],
      "text/plain": [
       "              datetime  season  holiday  workingday  weather  temp   atemp  \\\n",
       "0  2011-01-01 00:00:00       1        0           0        1  9.84  14.395   \n",
       "1  2011-01-01 01:00:00       1        0           0        1  9.02  13.635   \n",
       "2  2011-01-01 02:00:00       1        0           0        1  9.02  13.635   \n",
       "3  2011-01-01 03:00:00       1        0           0        1  9.84  14.395   \n",
       "4  2011-01-01 04:00:00       1        0           0        1  9.84  14.395   \n",
       "\n",
       "   humidity  windspeed  casual  registered  count  \n",
       "0        81        0.0       3          13     16  \n",
       "1        80        0.0       8          32     40  \n",
       "2        80        0.0       5          27     32  \n",
       "3        75        0.0       3          10     13  \n",
       "4        75        0.0       0           1      1  "
      ]
     },
     "execution_count": 4,
     "metadata": {},
     "output_type": "execute_result"
    }
   ],
   "source": [
    "train.head()"
   ]
  },
  {
   "cell_type": "markdown",
   "metadata": {},
   "source": [
    "## 2. Feature Engineering\n",
    "\n",
    "앞서 본 것처럼 \"season\", \"holiday\", \"workingday\", \"weather\" 열은 수치형으로 되어있기 때문에 이를 다음과 같은 기준으로 범주형 변수로 바꿔주고자 한다.  \n",
    "  \n",
    "- \"datetime\"열로부터 새로운 열 \"date\", \"hour\", \"weekDay\", \"month\" 를 생성한다.\n",
    "- \"season\", \"holiday\", \"workingday\", \"weather\" 열을 범주형으로 바꾼다.\n",
    "- 이미 유용한 열들을 생성했기에 \"datetime\"열을 버린다."
   ]
  },
  {
   "cell_type": "markdown",
   "metadata": {},
   "source": [
    "### Creating New Columns From \"Datetime\" Column"
   ]
  },
  {
   "cell_type": "code",
   "execution_count": 5,
   "metadata": {},
   "outputs": [],
   "source": [
    "train['date'] = train['datetime'].apply(lambda x: x.split()[0])\n",
    "train['hour'] = train['datetime'].apply(lambda x: x.split()[1].split(':')[0])\n",
    "train['weekDay'] = train['date'].apply(lambda dateString: calendar.day_name[datetime.strptime(dateString, \"%Y-%m-%d\").weekday()])\n",
    "train['month'] = train['date'].apply(lambda x: calendar.month_name[datetime.strptime(x,'%Y-%m-%d').month])"
   ]
  },
  {
   "cell_type": "code",
   "execution_count": 6,
   "metadata": {},
   "outputs": [],
   "source": [
    "train['season'] = train['season'].map({1:'Spring', 2:'Summer', 3:'Fall', 4:'Winter'})\n",
    "train['weather'] = train['weather'].map({\n",
    "    1:'Clear + Few clouds + Partly cloudy + Partly cloudy',\n",
    "    2:'Mist + Cloudy, Mist + Broken clouds, Mist + Few clouds, Mist',\n",
    "    3:' Light Snow, Light Rain + Thunderstorm + Scattered clouds, Light Rain + Scattered clouds',\n",
    "    4:'Heavy Rain + Ice Pallets + Thunderstorm + Mist, Snow + Fog'\n",
    "})"
   ]
  },
  {
   "cell_type": "markdown",
   "metadata": {},
   "source": [
    "### Coercing To Category Type"
   ]
  },
  {
   "cell_type": "code",
   "execution_count": 7,
   "metadata": {},
   "outputs": [],
   "source": [
    "categoryVariableList = ['hour','weekDay','month','season','weather','holiday','workingday']\n",
    "\n",
    "for var in categoryVariableList:\n",
    "    train[var] = train[var].astype('category')"
   ]
  },
  {
   "cell_type": "markdown",
   "metadata": {},
   "source": [
    "### Dropping Unnecessary Column"
   ]
  },
  {
   "cell_type": "code",
   "execution_count": 8,
   "metadata": {},
   "outputs": [],
   "source": [
    "train = train.drop(['datetime'], axis=1)"
   ]
  },
  {
   "cell_type": "code",
   "execution_count": 9,
   "metadata": {
    "scrolled": true
   },
   "outputs": [
    {
     "name": "stdout",
     "output_type": "stream",
     "text": [
      "<class 'pandas.core.frame.DataFrame'>\n",
      "RangeIndex: 10886 entries, 0 to 10885\n",
      "Data columns (total 15 columns):\n",
      "season        10886 non-null category\n",
      "holiday       10886 non-null category\n",
      "workingday    10886 non-null category\n",
      "weather       10886 non-null category\n",
      "temp          10886 non-null float64\n",
      "atemp         10886 non-null float64\n",
      "humidity      10886 non-null int64\n",
      "windspeed     10886 non-null float64\n",
      "casual        10886 non-null int64\n",
      "registered    10886 non-null int64\n",
      "count         10886 non-null int64\n",
      "date          10886 non-null object\n",
      "hour          10886 non-null category\n",
      "weekDay       10886 non-null category\n",
      "month         10886 non-null category\n",
      "dtypes: category(7), float64(3), int64(4), object(1)\n",
      "memory usage: 757.0+ KB\n"
     ]
    }
   ],
   "source": [
    "train.info()"
   ]
  },
  {
   "cell_type": "markdown",
   "metadata": {},
   "source": [
    "### Let's Start With Very Simple Visualization Of Variables DataType Count"
   ]
  },
  {
   "cell_type": "code",
   "execution_count": 10,
   "metadata": {},
   "outputs": [],
   "source": [
    "dataType_df = pd.DataFrame(train.get_dtype_counts()).reset_index().rename(columns={'index':'variableType',0:'count'})"
   ]
  },
  {
   "cell_type": "code",
   "execution_count": 11,
   "metadata": {},
   "outputs": [
    {
     "data": {
      "text/plain": [
       "[Text(0, 0.5, 'Count'),\n",
       " Text(0.5, 0, 'variable type'),\n",
       " Text(0.5, 1.0, 'Variables DataType Count')]"
      ]
     },
     "execution_count": 11,
     "metadata": {},
     "output_type": "execute_result"
    },
    {
     "data": {
      "image/png": "[encoded data removed]",
      "text/plain": [
       "<Figure size 864x360 with 1 Axes>"
      ]
     },
     "metadata": {
      "needs_background": "light"
     },
     "output_type": "display_data"
    }
   ],
   "source": [
    "fig, ax = plt.subplots(figsize=(12, 5))\n",
    "\n",
    "sns.barplot(data=dataType_df, x='variableType', y='count' ,ax=ax)\n",
    "ax.set(xlabel='variable type', ylabel='Count', title='Variables DataType Count')"
   ]
  },
  {
   "cell_type": "markdown",
   "metadata": {},
   "source": [
    "## 3. Missing Values Analysis  \n",
    "  \n",
    "일단 우리가 데이터와 행에 대해 어느정도 알게 되었다면, 다음 단계로 데이터에 누락값이 존재하는 지 알아봐야한다. 운이 좋게도 이번 데이터에는 누락값이 없다. 일반적으로 데이터 셋에서 누락값을 시각화하는 방법은 missingno 라이브러리를 이용하는 것이다."
   ]
  },
  {
   "cell_type": "code",
   "execution_count": 12,
   "metadata": {},
   "outputs": [
    {
     "name": "stdout",
     "output_type": "stream",
     "text": [
      "column: season    \t # of NaN:0\n",
      "column: holiday   \t # of NaN:0\n",
      "column: workingday\t # of NaN:0\n",
      "column: weather   \t # of NaN:0\n",
      "column: temp      \t # of NaN:0\n",
      "column: atemp     \t # of NaN:0\n",
      "column: humidity  \t # of NaN:0\n",
      "column: windspeed \t # of NaN:0\n",
      "column: casual    \t # of NaN:0\n",
      "column: registered\t # of NaN:0\n",
      "column: count     \t # of NaN:0\n",
      "column: date      \t # of NaN:0\n",
      "column: hour      \t # of NaN:0\n",
      "column: weekDay   \t # of NaN:0\n",
      "column: month     \t # of NaN:0\n"
     ]
    }
   ],
   "source": [
    "for col in train.columns:\n",
    "    print('column: {:<10}\\t # of NaN:{}'.format(col, train[col].isnull().sum()))"
   ]
  },
  {
   "cell_type": "code",
   "execution_count": 13,
   "metadata": {},
   "outputs": [
    {
     "data": {
      "text/plain": [
       "<matplotlib.axes._subplots.AxesSubplot at 0x209e8de02b0>"
      ]
     },
     "execution_count": 13,
     "metadata": {},
     "output_type": "execute_result"
    },
    {
     "data": {
      "image/png": "[encoded data removed]",
      "text/plain": [
       "<Figure size 1800x720 with 2 Axes>"
      ]
     },
     "metadata": {
      "needs_background": "light"
     },
     "output_type": "display_data"
    }
   ],
   "source": [
    "import missingno as msno\n",
    "msno.matrix(train)"
   ]
  },
  {
   "cell_type": "markdown",
   "metadata": {},
   "source": [
    "## 4. Outlier Analysis on \"count\" variable(target)\n",
    "  \n",
    "처음 그림에서, \"count\"변수는 분포를 **오른쪽으로 왜곡(skew)시키는 이상치 데이터 포인트가 있다**(박스플롯을 벗어나는 즉, IQR를 벗어나는). 그러나 이외에도 계절(season)별, 시간(hour)별, 평일(workingday)별 상자 그림을 통해 다음과 같은 추론이 만들어진다."
   ]
  },
  {
   "cell_type": "code",
   "execution_count": 28,
   "metadata": {},
   "outputs": [
    {
     "data": {
      "text/plain": [
       "[Text(0, 0.5, 'Count'),\n",
       " Text(0.5, 0, 'Working Day'),\n",
       " Text(0.5, 1.0, 'Box Plot On Count Across Working Day')]"
      ]
     },
     "execution_count": 28,
     "metadata": {},
     "output_type": "execute_result"
    },
    {
     "data": {
      "image/png": "[encoded data removed]",
      "text/plain": [
       "<Figure size 864x720 with 4 Axes>"
      ]
     },
     "metadata": {
      "needs_background": "light"
     },
     "output_type": "display_data"
    }
   ],
   "source": [
    "fig, axes = plt.subplots(2, 2, figsize=(12,10))\n",
    "\n",
    "sns.boxplot(data=train, y='count', orient='v',ax=axes[0,0])\n",
    "sns.boxplot(data=train, y='count', x='season', orient='v', ax=axes[0,1])\n",
    "sns.boxplot(data=train, y='count', x='hour', orient='v', ax=axes[1,0])\n",
    "sns.boxplot(data=train, y='count', x='workingday', orient='v', ax=axes[1,1])\n",
    "\n",
    "axes[0,0].set(title='Box Plot On Count', ylabel='Count')\n",
    "axes[0,1].set(title='Box Plot On Count Across Season', xlabel='Season', ylabel='Count')\n",
    "axes[1,0].set(title='Box Plot On Count Across Hour Of The Day', xlabel='Hour Of The Day', ylabel='Count')\n",
    "axes[1,1].set(title='Box Plot On Count Across Working Day', xlabel='Working Day', ylabel='Count')"
   ]
  },
  {
   "cell_type": "markdown",
   "metadata": {},
   "source": [
    "- 그림 1) count 변수는 분포를 오른쪽으로 왜곡(skew)시키는 이상치 데이터 포인트가 있다\n",
    "- 그림 2) 봄(season: Spring)에는 상대적으로 낮은 count를 가진다. 상자 그림에서 중   위수 값이 증거가 된다.\n",
    "- 그림 3) 중위값이 7AM ~ 8AM 그리고 5PM ~ 6PM에 상대적으로 높다. 아마 학생이나 직   장인들의 출퇴근 시간이라 그런 것이라 추측가능하다.\n",
    "- 그림 4) 대부분의 이상치는 주로 non-working day 보다는 Working Day에서 발생한다."
   ]
  },
  {
   "cell_type": "markdown",
   "metadata": {},
   "source": [
    "### Let's Remove Outliers In The Count Column  \n",
    "  \n",
    "- 이 노트북은 3 * 표준편차를 벗어나는 값을 이상치로 정의하였다."
   ]
  },
  {
   "cell_type": "code",
   "execution_count": 40,
   "metadata": {},
   "outputs": [],
   "source": [
    "trainWithoutOutliers = train[np.abs(train['count'] - train['count'].mean()) <= (3*train['count'].std())]"
   ]
  },
  {
   "cell_type": "code",
   "execution_count": 42,
   "metadata": {},
   "outputs": [
    {
     "name": "stdout",
     "output_type": "stream",
     "text": [
      "The shape of the before Outliers: (10886, 15)\n",
      "The shape of the after Outliers: (10739, 15)\n"
     ]
    }
   ],
   "source": [
    "print(\"The shape of the before Outliers: {}\".format(train.shape))\n",
    "print(\"The shape of the after Outliers: {}\".format(trainWithoutOutliers.shape))"
   ]
  },
  {
   "cell_type": "code",
   "execution_count": 48,
   "metadata": {},
   "outputs": [
    {
     "data": {
      "text/plain": [
       "Text(0.5, 1.0, 'Box Plot On Count Across Working Day')"
      ]
     },
     "execution_count": 48,
     "metadata": {},
     "output_type": "execute_result"
    },
    {
     "data": {
      "image/png": "[encoded data removed]",
      "text/plain": [
       "<Figure size 360x360 with 1 Axes>"
      ]
     },
     "metadata": {
      "needs_background": "light"
     },
     "output_type": "display_data"
    }
   ],
   "source": [
    "plt.figure(figsize=(5,5))\n",
    "sns.boxplot(data=trainWithoutOutliers, y='count', x='workingday', orient='v')\n",
    "plt.title('Box Plot On Count Across Working Day')"
   ]
  },
  {
   "cell_type": "markdown",
   "metadata": {},
   "source": [
    "## 5. Correlation Analysis"
   ]
  },
  {
   "cell_type": "code",
   "execution_count": null,
   "metadata": {},
   "outputs": [],
   "source": []
  }
 ],
 "metadata": {
  "kernelspec": {
   "display_name": "Python 3",
   "language": "python",
   "name": "python3"
  },
  "language_info": {
   "codemirror_mode": {
    "name": "ipython",
    "version": 3
   },
   "file_extension": ".py",
   "mimetype": "text/x-python",
   "name": "python",
   "nbconvert_exporter": "python",
   "pygments_lexer": "ipython3",
   "version": "3.7.3"
  }
 },
 "nbformat": 4,
 "nbformat_minor": 2
}
